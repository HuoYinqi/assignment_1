{
 "nbformat": 4,
 "nbformat_minor": 2,
 "metadata": {
  "language_info": {
   "name": "python",
   "codemirror_mode": {
    "name": "ipython",
    "version": 3
   },
   "version": "3.7.6-final"
  },
  "orig_nbformat": 2,
  "file_extension": ".py",
  "mimetype": "text/x-python",
  "name": "python",
  "npconvert_exporter": "python",
  "pygments_lexer": "ipython3",
  "version": 3,
  "kernelspec": {
   "name": "python3",
   "display_name": "Python 3"
  }
 },
 "cells": [
  {
   "cell_type": "code",
   "execution_count": 9,
   "metadata": {},
   "outputs": [
    {
     "output_type": "stream",
     "name": "stdout",
     "text": "交换前：var1 = 2, var2 = 3\n交换后：var1 = 3, var2 = 2\n"
    }
   ],
   "source": [
    "#交换两个变量值\n",
    "\n",
    "#函数定义\n",
    "def swap(a, b):\n",
    "    return b, a\n",
    "\n",
    "#创建两个变量\n",
    "var1 = 2\n",
    "var2 = 3\n",
    "print(\"交换前：var1 = {}, var2 = {}\" .format(var1, var2))\n",
    "#调用函数\n",
    "var1, var2 = swap(var1, var2)\n",
    "print(\"交换后：var1 = {}, var2 = {}\" .format(var1, var2))"
   ]
  },
  {
   "cell_type": "code",
   "execution_count": 1,
   "metadata": {},
   "outputs": [
    {
     "output_type": "stream",
     "name": "stdout",
     "text": "-999.0超过摄氏度下限 请重新输入！\n-325.0超过摄氏度下限 请重新输入！\n摄氏度：45.00\n华氏度：113.00\n"
    }
   ],
   "source": [
    "# 将摄氏度转换为华氏温度\n",
    "# 华氏度 = 摄氏度 * 9 / 5 + 32\n",
    "\n",
    "def cel2fah(cel):\n",
    "    fah = cel * 9 / 5 + 32\n",
    "    return fah\n",
    "\n",
    "# 创建一个异常函数\n",
    "# 当摄氏度小于-273时，抛出异常\n",
    "def lowbound(cel):\n",
    "    if cel < -273:\n",
    "        raise Exception(\"{}超过摄氏度下限\" .format(cel))\n",
    "    return\n",
    "\n",
    "# 创建一个自检函数\n",
    "import random\n",
    "def check_self():\n",
    "    cel = random.uniform(-272, 1000)\n",
    "    assert(cel2fah(cel) == cel * 9 / 5 + 32)\n",
    "    return\n",
    "\n",
    "try:\n",
    "    check_self()\n",
    "except AssertionError:\n",
    "    print(\"函数错误！\")\n",
    "else:\n",
    "    while True:\n",
    "        cel = float(input(\"摄氏度\"))\n",
    "        try:\n",
    "            lowbound(cel)\n",
    "            break\n",
    "        except Exception as err:\n",
    "            print(err,\"请重新输入！\")\n",
    "    # 保留两位有效小数\n",
    "    print(\"摄氏度：%.2f\" %cel)\n",
    "    # 调用函数\n",
    "    fah = cel2fah(cel)\n",
    "    print(\"华氏度：%.2f\" %fah)"
   ]
  },
  {
   "cell_type": "code",
   "execution_count": 29,
   "metadata": {},
   "outputs": [
    {
     "output_type": "stream",
     "name": "stdout",
     "text": "输入数字为：-98\n各位数之和：17\n"
    }
   ],
   "source": [
    "# 求数字中各位数之和\n",
    "\n",
    "def sum_digits(target):\n",
    "    target = abs(target)\n",
    "    # 求出循环次数 = 数字的长度\n",
    "    cycle_count = len(str(target))\n",
    "    sum = 0\n",
    "    for i in range(cycle_count):\n",
    "        remainder = target % 10\n",
    "        sum = sum + remainder\n",
    "        target = int((target - remainder) / 10)\n",
    "    return sum\n",
    "\n",
    "def check_self():\n",
    "    assert(sum_digits(132) == 6)\n",
    "    assert(sum_digits(-25) == 7)\n",
    "    return\n",
    "\n",
    "try:\n",
    "    check_self()\n",
    "    num = int(input(\"输入整数\"))\n",
    "except ValueError:\n",
    "    print(\"请输入整数！\")\n",
    "except AssertionError:\n",
    "    print(\"逻辑错误！\")\n",
    "else:\n",
    "    print(\"输入数字为：%d\" %num)\n",
    "    # 调用函数\n",
    "    sum = sum_digits(num)\n",
    "    print(\"各位数之和：%d\" %sum)"
   ]
  },
  {
   "cell_type": "code",
   "execution_count": 30,
   "metadata": {},
   "outputs": [
    {
     "output_type": "stream",
     "name": "stdout",
     "text": "56不是素数！\n"
    }
   ],
   "source": [
    "# 判断某数是否为素数\n",
    "\n",
    "def is_prime(num):\n",
    "    if num < 2:\n",
    "        return True\n",
    "    for i in range (2, int(num / 2 + 1)):\n",
    "        if num % i == 0:\n",
    "            return False\n",
    "    return True\n",
    "\n",
    "# 创建一个自检函数\n",
    "def check_self():\n",
    "    assert(is_prime(7) == True)\n",
    "    assert(is_prime(21) == False)\n",
    "    assert(is_prime(2) == True)\n",
    "    return\n",
    "\n",
    "try:\n",
    "    check_self()\n",
    "except AssertionError:\n",
    "    print(\"逻辑错误！\")\n",
    "else:\n",
    "    num = int(input(\"输入整数\"))\n",
    "    if is_prime(num):\n",
    "        print(\"%d是素数！\" %num)\n",
    "    else:\n",
    "        print(\"%d不是素数！\" %num)\n",
    "\n",
    ""
   ]
  },
  {
   "cell_type": "code",
   "execution_count": 6,
   "metadata": {},
   "outputs": [
    {
     "output_type": "stream",
     "name": "stdout",
     "text": "第1位随机数：26\n第2位随机数：24\n第3位随机数：61\n第4位随机数：65\n第5位随机数：91\n第6位随机数：21\n第7位随机数：67\n第8位随机数：40\n第9位随机数：27\n第10位随机数：3\n"
    }
   ],
   "source": [
    "# 生成十个0~100之间的随机整数\n",
    "# 导入random模块\n",
    "import random\n",
    "# 创建函数 该函数分别生成一个0~100之间的随机整数\n",
    "def generate_num():\n",
    "    random_int = random.randint(0, 100)\n",
    "    return random_int\n",
    "\n",
    "for i in range(10):\n",
    "    num = generate_num()\n",
    "    print(\"第%d位随机数：%d\" %(i+1, num))"
   ]
  },
  {
   "cell_type": "code",
   "execution_count": 7,
   "metadata": {},
   "outputs": [
    {
     "output_type": "stream",
     "name": "stdout",
     "text": "原列表：['good', 'good', 'study', 2020, 4, 1, 'day', 'day', 'up', 1]\n新列表：['good', 'study', 2020, 4, 1, 'day', 'up']\n"
    }
   ],
   "source": [
    "# 删除列表中的重复项\n",
    "def rmv_duplicates(target):\n",
    "# 新建一个新列表来储存原列表中的非重复项\n",
    "    result = []\n",
    "    for i in target:\n",
    "        if not i in result:\n",
    "            result.append(i)\n",
    "    return result\n",
    "\n",
    "target = ['good', 'good', 'study', 2020, 4, 1, 'day', 'day', 'up', 1]\n",
    "print(\"原列表：{}\" .format(target) )\n",
    "result = rmv_duplicates(target)\n",
    "print(\"新列表：{}\" .format(result) )"
   ]
  },
  {
   "cell_type": "code",
   "execution_count": null,
   "metadata": {},
   "outputs": [],
   "source": []
  }
 ]
}