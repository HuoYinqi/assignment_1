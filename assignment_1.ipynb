{
 "nbformat": 4,
 "nbformat_minor": 2,
 "metadata": {
  "language_info": {
   "name": "python",
   "codemirror_mode": {
    "name": "ipython",
    "version": 3
   },
   "version": "3.7.6-final"
  },
  "orig_nbformat": 2,
  "file_extension": ".py",
  "mimetype": "text/x-python",
  "name": "python",
  "npconvert_exporter": "python",
  "pygments_lexer": "ipython3",
  "version": 3,
  "kernelspec": {
   "name": "python3",
   "display_name": "Python 3"
  }
 },
 "cells": [
  {
   "cell_type": "code",
   "execution_count": 1,
   "metadata": {},
   "outputs": [
    {
     "output_type": "stream",
     "name": "stdout",
     "text": "交换前：var1 = 3, var2 = 5\n交换后：var1 = 5, var2 = 3\n"
    }
   ],
   "source": [
    "#交换两个变量值\n",
    "\n",
    "#函数定义\n",
    "def exchange_two_variable(var1, var2):\n",
    "    # var1, var2 = var2, var1\n",
    "    return(var2, var1)  #返回一个元祖对象\n",
    "#创建两个变量\n",
    "var1 = 3\n",
    "var2 = 5\n",
    "#调用函数\n",
    "print(\"交换前：var1 = {}, var2 = {}\" .format(var1, var2))\n",
    "var = exchange_two_variable(var1, var2)\n",
    "var1 = var[0]\n",
    "var2 = var[1]\n",
    "print(\"交换后：var1 = {}, var2 = {}\" .format(var1, var2))"
   ]
  },
  {
   "cell_type": "code",
   "execution_count": 2,
   "metadata": {},
   "outputs": [
    {
     "output_type": "stream",
     "name": "stdout",
     "text": "摄氏度：37.60\n华氏度：99.68\n"
    }
   ],
   "source": [
    "# 将摄氏度转换为华氏温度\n",
    "# 华氏度 = 摄氏度 * 9 / 5 + 32\n",
    "\n",
    "def celsius_to_fahrenheit(celsius):\n",
    "    fahrenheit = celsius * 9 / 5 + 32\n",
    "    return fahrenheit\n",
    "\n",
    "celsius = float(input(\"摄氏度：\"))\n",
    "# 保留两位有效小数\n",
    "print(\"摄氏度：%.2f\" %celsius)\n",
    "# 调用函数\n",
    "fahrenheit = celsius_to_fahrenheit(celsius)\n",
    "print(\"华氏度：%.2f\" %fahrenheit)"
   ]
  },
  {
   "cell_type": "code",
   "execution_count": 3,
   "metadata": {},
   "outputs": [
    {
     "output_type": "stream",
     "name": "stdout",
     "text": "输入数字为：234\n各位数之和：9\n"
    }
   ],
   "source": [
    "# 求数字中各位数之和\n",
    "\n",
    "def sum_of_digits_in_number(num):\n",
    "    # 求出循环次数 = 数字的长度\n",
    "    cycle_count = len(str(num))\n",
    "    sum = 0\n",
    "    for i in range(cycle_count):\n",
    "        remainder = num % 10\n",
    "        sum = sum + remainder\n",
    "        num = int((num - remainder) / 10)\n",
    "    return sum\n",
    "\n",
    "num = int(input(\"输入整数\"))\n",
    "# 调用函数\n",
    "print(\"输入数字为：%d\" %num)\n",
    "sum = sum_of_digits_in_number(num)\n",
    "print(\"各位数之和：%d\" %sum)"
   ]
  },
  {
   "cell_type": "code",
   "execution_count": 4,
   "metadata": {},
   "outputs": [
    {
     "output_type": "stream",
     "name": "stdout",
     "text": "13是素数！\n"
    }
   ],
   "source": [
    "# 判断某数是否为素数\n",
    "\n",
    "def is_prime(num):\n",
    "    if num < 2:\n",
    "        return True\n",
    "    for i in range (2, int(num / 2 + 1)):\n",
    "        if num % i == 0:\n",
    "            return False\n",
    "    return True\n",
    "\n",
    "num = int(input(\"输入整数\"))\n",
    "if is_prime(num):\n",
    "    print(\"%d是素数！\" %num)\n",
    "else:\n",
    "    print(\"%d不是素数！\" %num)\n",
    "\n",
    "# assert(is_prime(7) == True)\n",
    "# assert(is_prime(21) == False)\n",
    "# assert(is_prime(2) == True)"
   ]
  },
  {
   "cell_type": "code",
   "execution_count": 5,
   "metadata": {},
   "outputs": [
    {
     "output_type": "stream",
     "name": "stdout",
     "text": "54\n0.02952968882053497\n"
    }
   ],
   "source": [
    "# 生成随机数\n",
    "# 导入random模块\n",
    "import random\n",
    "# 创建函数 该函数分别生成一个0~100之间的随机整数和一个0~1之间的浮点数\n",
    "def generate_random_num():\n",
    "    random_int = random.randint(0, 100) # 生成一个0~100之间的随机整数，包括边界条件\n",
    "    random_float = random.uniform(0, 1) # 生成一个0~1之间的浮点数\n",
    "    print(random_int)\n",
    "    print(random_float)\n",
    "# 调用函数\n",
    "generate_random_num()"
   ]
  },
  {
   "cell_type": "code",
   "execution_count": 6,
   "metadata": {},
   "outputs": [
    {
     "output_type": "stream",
     "name": "stdout",
     "text": "原列表：['good', 'good', 'study', 2020, 4, 1, 'day', 'day', 'up', 1]\n原列表：['good', 'study', 2020, 4, 1, 'day', 'up']\n"
    }
   ],
   "source": [
    "# 删除列表中的重复项\n",
    "def remove_duplicates(arry):\n",
    "    # 新建一个新列表来储存原列表中的非重复项\n",
    "    result = []\n",
    "    for i in arry:\n",
    "        if not i in result:\n",
    "            result.append(i)\n",
    "    return result\n",
    "arry = ['good', 'good', 'study', 2020, 4, 1, 'day', 'day', 'up', 1]\n",
    "print(\"原列表：{}\" .format(arry) )\n",
    "result = remove_duplicates(arry)\n",
    "print(\"原列表：{}\" .format(result) )"
   ]
  },
  {
   "cell_type": "code",
   "execution_count": null,
   "metadata": {},
   "outputs": [],
   "source": []
  }
 ]
}