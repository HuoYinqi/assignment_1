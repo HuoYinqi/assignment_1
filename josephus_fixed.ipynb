{
 "cells": [
  {
   "cell_type": "code",
   "execution_count": 13,
   "metadata": {},
   "outputs": [],
   "source": [
    "# 约瑟夫环问题\n",
    "# 假设有n个人， 从第一个人开始报数， 数到m的人被淘汰\n",
    "# person = ['Bob', 'Jack', 'Allen', 'Tony', 'Peter', 'Rose', 'Wade']\n",
    "\n",
    "\n",
    "# 约瑟夫环是一个容器\n",
    "# 容器一般具有的功能有 增 删 查 改\n",
    "import copy\n",
    "import csv\n",
    "import zipfile\n",
    "\n",
    "class Person():\n",
    "    def __init__(self, name = '', age = -1):\n",
    "        self.name = name\n",
    "        self.age = age\n",
    "\n",
    "class JosephusRing:\n",
    "    def __init__(self, reader = None):\n",
    "        self.people = []\n",
    "        self.start = -1\n",
    "        self.step = -1\n",
    "        if reader:\n",
    "            for row in reader:\n",
    "                self.people.append(Person.create_from_txt_or_csv_reader(row))\n",
    "\n",
    "    # 增功能\n",
    "    def append(self, obj):\n",
    "        self.people.append(obj)\n",
    "\n",
    "    # 删功能\n",
    "    def pop(self, index):\n",
    "        self.people.pop(index)\n",
    "    \n",
    "    # 查功能\n",
    "    # 查找整个容器内容\n",
    "    def query_list(self):\n",
    "        temp = copy.copy(self.people)\n",
    "        size = len(temp)\n",
    "        if size == 0:\n",
    "            return None\n",
    "        \n",
    "        index = self.start - 1\n",
    "        ret = []\n",
    "        for i in range(size):\n",
    "            index = (index + self.step - 1) % len(temp)\n",
    "            ret.append(temp.pop(index))\n",
    "        return ret\n",
    "\n",
    "    # 用生成器来进行一个一个输出 利用__next__\n",
    "    def iter(self):\n",
    "        temp = self.people\n",
    "        start_index = self.start - 1\n",
    "        while temp:    \n",
    "            index = (start_index + self.step - 1) % len(temp)\n",
    "            ret = temp.pop(index)\n",
    "            start_index = index\n",
    "            yield ret\n",
    "        \n",
    "        return None\n",
    "\n",
    "\n",
    "\n"
   ]
  },
  {
   "cell_type": "code",
   "execution_count": 14,
   "metadata": {},
   "outputs": [
    {
     "output_type": "stream",
     "name": "stdout",
     "text": "Bob 15\nJack 12\nAllen 17\nTony 20\nPeter 15\nRose 16\nWade 19\n-------------\nRose 16\nAllen 17\nBob 15\nWade 19\nJack 12\nPeter 15\nTony 20\n"
    }
   ],
   "source": [
    "with open('person.txt') as reader:\n",
    "    jos = JosephusRing(reader)\n",
    "    for each in jos.people:\n",
    "        print(each.name, each.age)\n",
    "print('-------------')\n",
    "jos.start = 3\n",
    "jos.step = 4\n",
    "res = jos.query_list()\n",
    "for each in res:\n",
    "    print(each.name, each.age)"
   ]
  },
  {
   "cell_type": "code",
   "execution_count": null,
   "metadata": {},
   "outputs": [],
   "source": []
  }
 ],
 "metadata": {
  "language_info": {
   "name": "python",
   "codemirror_mode": {
    "name": "ipython",
    "version": 3
   },
   "version": "3.7.6-final"
  },
  "orig_nbformat": 2,
  "file_extension": ".py",
  "mimetype": "text/x-python",
  "name": "python",
  "npconvert_exporter": "python",
  "pygments_lexer": "ipython3",
  "version": 3,
  "kernelspec": {
   "name": "python3",
   "display_name": "Python 3"
  }
 },
 "nbformat": 4,
 "nbformat_minor": 2
}