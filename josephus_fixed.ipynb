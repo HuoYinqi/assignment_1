{
 "nbformat": 4,
 "nbformat_minor": 2,
 "metadata": {
  "language_info": {
   "name": "python",
   "codemirror_mode": {
    "name": "ipython",
    "version": 3
   },
   "version": "3.7.6-final"
  },
  "orig_nbformat": 2,
  "file_extension": ".py",
  "mimetype": "text/x-python",
  "name": "python",
  "npconvert_exporter": "python",
  "pygments_lexer": "ipython3",
  "version": 3,
  "kernelspec": {
   "name": "python3",
   "display_name": "Python 3"
  }
 },
 "cells": [
  {
   "cell_type": "code",
   "execution_count": 1,
   "metadata": {},
   "outputs": [
    {
     "output_type": "stream",
     "name": "stdout",
     "text": "第1位被淘汰\nid:6, name:Rose, age:16\n第2位被淘汰\nid:3, name:Allen, age:17\n第3位被淘汰\nid:1, name:Bob, age:15\n第4位被淘汰\nid:7, name:Wade, age:19\n第5位被淘汰\nid:2, name:Jack, age:12\n第6位被淘汰\nid:5, name:Peter, age:15\n获胜者：\nid:4, name:Tony, age:20\n"
    }
   ],
   "source": [
    "# 约瑟夫环问题\n",
    "# 假设有n个人， 从第一个人开始报数， 数到m的人被淘汰\n",
    "\n",
    "# person = ['Bob', 'Jack', 'Allen', 'Tony', 'Peter', 'Rose', 'Wade']\n",
    "\n",
    "\n",
    "class Josephus:\n",
    "\n",
    "    class Person:\n",
    "        def __init__(self, name, id, age):\n",
    "            self.name = name\n",
    "            self.id = id\n",
    "            self.age = age\n",
    "        def print_info(self):\n",
    "            print(\"id:{}, name:{}, age:{}\" .format(self.id, self.name, self.age))\n",
    "\n",
    "    def __init__(self, participants, step, start):\n",
    "        self.participants = participants\n",
    "        self.step = step\n",
    "        self.start = start\n",
    "\n",
    "    def josephus(self):\n",
    "        n = len(self.participants)\n",
    "        # 将所有人的序号按顺序（1 ~ n）生成一个列表\n",
    "        sequence = list(range(1, n+1))\n",
    "        index = self.start - 1\n",
    "        result = []\n",
    "        for i in range(n):\n",
    "            count = 0\n",
    "            while count < self.step:\n",
    "                if sequence[index] != 0:\n",
    "                    count += 1\n",
    "                if count == self.step:\n",
    "                    result.append(self.participants[index])\n",
    "                    sequence[index] = 0\n",
    "                index = (index + 1) % n\n",
    "        return result   \n",
    "\n",
    "    def print_result(self, reslut):\n",
    "        for i in range(len(reslut) - 1):\n",
    "            print(\"第%d位被淘汰\" %(i + 1))   \n",
    "            reslut[i].print_info()\n",
    "        print(\"获胜者：\")\n",
    "        reslut[len(reslut) - 1].print_info()\n",
    "\n",
    "p1 = Josephus.Person('Bob', 1, 15)\n",
    "p2 = Josephus.Person('Jack', 2, 12)\n",
    "p3 = Josephus.Person('Allen', 3, 17)\n",
    "p4 = Josephus.Person('Tony', 4, 20)\n",
    "p5 = Josephus.Person('Peter', 5, 15)\n",
    "p6 = Josephus.Person('Rose', 6, 16)\n",
    "p7 = Josephus.Person('Wade', 7, 19)\n",
    "participants = [p1, p2, p3, p4, p5, p6, p7]\n",
    "\n",
    "jos = Josephus(participants, 4, 3)\n",
    "rank = jos.josephus()\n",
    "jos.print_result(rank)"
   ]
  },
  {
   "cell_type": "code",
   "execution_count": null,
   "metadata": {},
   "outputs": [],
   "source": []
  }
 ]
}