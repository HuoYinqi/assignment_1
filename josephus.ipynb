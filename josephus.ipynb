{
 "nbformat": 4,
 "nbformat_minor": 2,
 "metadata": {
  "language_info": {
   "name": "python",
   "codemirror_mode": {
    "name": "ipython",
    "version": 3
   },
   "version": "3.7.6-final"
  },
  "orig_nbformat": 2,
  "file_extension": ".py",
  "mimetype": "text/x-python",
  "name": "python",
  "npconvert_exporter": "python",
  "pygments_lexer": "ipython3",
  "version": 3,
  "kernelspec": {
   "name": "python3",
   "display_name": "Python 3"
  }
 },
 "cells": [
  {
   "cell_type": "code",
   "execution_count": 5,
   "metadata": {},
   "outputs": [
    {
     "output_type": "stream",
     "name": "stdout",
     "text": "['Tony', 'Bob', 'Rose', 'Peter', 'Wade', 'Allen', 'Jack']\n第1位淘汰 Tony\n第2位淘汰 Bob\n第3位淘汰 Rose\n第4位淘汰 Peter\n第5位淘汰 Wade\n第6位淘汰 Allen\n第7位淘汰 Jack\n"
    }
   ],
   "source": [
    "# 约瑟夫环问题\n",
    "# 假设有n个人， 从第一个人开始报数， 数到m的人被淘汰\n",
    "\n",
    "person = ['Bob', 'Jack', 'Allen', 'Tony', 'Peter', 'Rose', 'Wade']\n",
    "\n",
    "# 创建函数，该函数将返回一个排序后的列表\n",
    "def josephus(target, m):\n",
    "    n = len(target)\n",
    "    # 给这n个人进行编号， 从1至n顺序放在列表中\n",
    "    sequence = list(range(1, n+1))\n",
    "    index = 0\n",
    "    rank = []\n",
    "    for i in range(n):\n",
    "        count = 0\n",
    "        while count < m:\n",
    "            if sequence[index] != 0:\n",
    "                count += 1\n",
    "            if count == m:\n",
    "                rank.append(person[index])\n",
    "                sequence[index] = 0\n",
    "            index = (index + 1) % n\n",
    "    return rank\n",
    "\n",
    "def print_list(target):\n",
    "    for i in range(len(target)):\n",
    "        print(\"第%d位淘汰\" %(i+1), target[i])\n",
    "\n",
    "rank = josephus(person, 4)\n",
    "print(rank)\n",
    "print_list(rank)\n",
    "\n",
    "    "
   ]
  },
  {
   "cell_type": "code",
   "execution_count": null,
   "metadata": {},
   "outputs": [],
   "source": []
  }
 ]
}